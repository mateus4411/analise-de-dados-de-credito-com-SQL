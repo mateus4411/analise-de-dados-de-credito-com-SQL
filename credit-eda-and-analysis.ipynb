{
 "cells": [
  {
   "cell_type": "markdown",
   "id": "67497f3d",
   "metadata": {
    "papermill": {
     "duration": 0.024046,
     "end_time": "2024-11-28T18:40:20.106114",
     "exception": false,
     "start_time": "2024-11-28T18:40:20.082068",
     "status": "completed"
    },
    "tags": []
   },
   "source": [
    "# **Exploração e análise de dados de crédito com SQL**\n",
    "A tabela foi criada no **AWS Athena** junto com o **S3 Bucket** com uma versão dos dados disponibilizados em: https://github.com/andre-marcos-perez/ebac-course-utils/tree/main/dataset"
   ]
  },
  {
   "cell_type": "markdown",
   "id": "9ed2aacc",
   "metadata": {
    "papermill": {
     "duration": 0.017752,
     "end_time": "2024-11-28T18:40:20.145212",
     "exception": false,
     "start_time": "2024-11-28T18:40:20.127460",
     "status": "completed"
    },
    "tags": []
   },
   "source": [
    "# **1. Objetivo**\n",
    "Este projeto tem como objetivo realizar uma análise exploratória de dados utilizando a base de dados de cartões de crédito de clientes de um banco, fornecida pelo professor André Perez durante a aula. A análise será conduzida utilizando SQL no ambiente da AWS, com o S3 para armazenamento dos dados e o Athena para execução das consultas SQL. Além disso, o Python será utilizado para realizar o tratamento dos dados (data wrangling) e a criação de gráficos que facilitem a visualização dos resultados. Cada análise apresentada será acompanhada do respectivo código SQL que gerou a consulta."
   ]
  },
  {
   "cell_type": "markdown",
   "id": "941fbc30",
   "metadata": {
    "papermill": {
     "duration": 0.01572,
     "end_time": "2024-11-28T18:40:20.185612",
     "exception": false,
     "start_time": "2024-11-28T18:40:20.169892",
     "status": "completed"
    },
    "tags": []
   },
   "source": [
    "# **2. Tratamento dos Dados**\n",
    "Nesta etapa, utilizarei o python para escolher as colunas que irei usar na analise."
   ]
  },
  {
   "cell_type": "code",
   "execution_count": 1,
   "id": "8a08a8b8",
   "metadata": {
    "execution": {
     "iopub.execute_input": "2024-11-28T18:40:20.223127Z",
     "iopub.status.busy": "2024-11-28T18:40:20.221740Z",
     "iopub.status.idle": "2024-11-28T18:40:21.249935Z",
     "shell.execute_reply": "2024-11-28T18:40:21.249169Z",
     "shell.execute_reply.started": "2024-11-28T08:07:23.508290Z"
    },
    "papermill": {
     "duration": 1.050446,
     "end_time": "2024-11-28T18:40:21.250098",
     "exception": false,
     "start_time": "2024-11-28T18:40:20.199652",
     "status": "completed"
    },
    "tags": []
   },
   "outputs": [],
   "source": [
    "import pandas as pd  # Importando a biblioteca pandas para organizar os dados em uma tabela (DataFrame)\n",
    "import seaborn as sns  # Importando a biblioteca Seaborn para criação de gráficos estatísticos e visualizações\n",
    "import matplotlib.pyplot as plt  # Importando a biblioteca Matplotlib para personalização dos gráficos\n"
   ]
  },
  {
   "cell_type": "code",
   "execution_count": 2,
   "id": "6217dd0b",
   "metadata": {
    "execution": {
     "iopub.execute_input": "2024-11-28T18:40:21.284741Z",
     "iopub.status.busy": "2024-11-28T18:40:21.283955Z",
     "iopub.status.idle": "2024-11-28T18:40:21.335625Z",
     "shell.execute_reply": "2024-11-28T18:40:21.334927Z",
     "shell.execute_reply.started": "2024-11-28T08:07:52.298777Z"
    },
    "papermill": {
     "duration": 0.071503,
     "end_time": "2024-11-28T18:40:21.335771",
     "exception": false,
     "start_time": "2024-11-28T18:40:21.264268",
     "status": "completed"
    },
    "tags": []
   },
   "outputs": [],
   "source": [
    "#Importando a base de dados\n",
    "df = pd.read_csv('/kaggle/input/credito-completo/credito-completo.csv') "
   ]
  },
  {
   "cell_type": "code",
   "execution_count": 3,
   "id": "a5fc2355",
   "metadata": {
    "execution": {
     "iopub.execute_input": "2024-11-28T18:40:21.376422Z",
     "iopub.status.busy": "2024-11-28T18:40:21.372730Z",
     "iopub.status.idle": "2024-11-28T18:40:21.379816Z",
     "shell.execute_reply": "2024-11-28T18:40:21.380249Z",
     "shell.execute_reply.started": "2024-11-28T08:07:56.042196Z"
    },
    "papermill": {
     "duration": 0.030419,
     "end_time": "2024-11-28T18:40:21.380443",
     "exception": false,
     "start_time": "2024-11-28T18:40:21.350024",
     "status": "completed"
    },
    "tags": []
   },
   "outputs": [],
   "source": [
    "#Excluindo as colunas que não iremos usar\n",
    "df=df.drop(columns=['id', 'default', 'meses_de_relacionamento'])"
   ]
  },
  {
   "cell_type": "code",
   "execution_count": 4,
   "id": "3c4fe82c",
   "metadata": {
    "execution": {
     "iopub.execute_input": "2024-11-28T18:40:21.438786Z",
     "iopub.status.busy": "2024-11-28T18:40:21.437642Z",
     "iopub.status.idle": "2024-11-28T18:40:21.441019Z",
     "shell.execute_reply": "2024-11-28T18:40:21.440414Z",
     "shell.execute_reply.started": "2024-11-28T08:08:00.169911Z"
    },
    "papermill": {
     "duration": 0.0468,
     "end_time": "2024-11-28T18:40:21.441150",
     "exception": false,
     "start_time": "2024-11-28T18:40:21.394350",
     "status": "completed"
    },
    "tags": []
   },
   "outputs": [],
   "source": [
    "# Remover separadores de milhar e trocar vírgula por ponto\n",
    "df['limite_credito'] = df['limite_credito'].str.replace('.', '', regex=False).str.replace(',', '.', regex=False)\n",
    "\n",
    "# Remover separadores de milhar e trocar vírgula por ponto\n",
    "df['valor_transacoes_12m'] = df['valor_transacoes_12m'].str.replace('.', '', regex=False).str.replace(',', '.', regex=False)"
   ]
  },
  {
   "cell_type": "code",
   "execution_count": 5,
   "id": "872b924d",
   "metadata": {
    "execution": {
     "iopub.execute_input": "2024-11-28T18:40:21.477789Z",
     "iopub.status.busy": "2024-11-28T18:40:21.476709Z",
     "iopub.status.idle": "2024-11-28T18:40:21.495768Z",
     "shell.execute_reply": "2024-11-28T18:40:21.496222Z",
     "shell.execute_reply.started": "2024-11-28T08:08:04.185992Z"
    },
    "papermill": {
     "duration": 0.040886,
     "end_time": "2024-11-28T18:40:21.496399",
     "exception": false,
     "start_time": "2024-11-28T18:40:21.455513",
     "status": "completed"
    },
    "tags": []
   },
   "outputs": [
    {
     "data": {
      "text/html": [
       "<div>\n",
       "<style scoped>\n",
       "    .dataframe tbody tr th:only-of-type {\n",
       "        vertical-align: middle;\n",
       "    }\n",
       "\n",
       "    .dataframe tbody tr th {\n",
       "        vertical-align: top;\n",
       "    }\n",
       "\n",
       "    .dataframe thead th {\n",
       "        text-align: right;\n",
       "    }\n",
       "</style>\n",
       "<table border=\"1\" class=\"dataframe\">\n",
       "  <thead>\n",
       "    <tr style=\"text-align: right;\">\n",
       "      <th></th>\n",
       "      <th>idade</th>\n",
       "      <th>sexo</th>\n",
       "      <th>dependentes</th>\n",
       "      <th>escolaridade</th>\n",
       "      <th>estado_civil</th>\n",
       "      <th>salario_anual</th>\n",
       "      <th>tipo_cartao</th>\n",
       "      <th>qtd_produtos</th>\n",
       "      <th>iteracoes_12m</th>\n",
       "      <th>meses_inativo_12m</th>\n",
       "      <th>limite_credito</th>\n",
       "      <th>valor_transacoes_12m</th>\n",
       "      <th>qtd_transacoes_12m</th>\n",
       "    </tr>\n",
       "  </thead>\n",
       "  <tbody>\n",
       "    <tr>\n",
       "      <th>0</th>\n",
       "      <td>45</td>\n",
       "      <td>M</td>\n",
       "      <td>3</td>\n",
       "      <td>ensino medio</td>\n",
       "      <td>casado</td>\n",
       "      <td>$60K - $80K</td>\n",
       "      <td>blue</td>\n",
       "      <td>5</td>\n",
       "      <td>3</td>\n",
       "      <td>1</td>\n",
       "      <td>12691.51</td>\n",
       "      <td>1144.90</td>\n",
       "      <td>42</td>\n",
       "    </tr>\n",
       "    <tr>\n",
       "      <th>1</th>\n",
       "      <td>49</td>\n",
       "      <td>F</td>\n",
       "      <td>5</td>\n",
       "      <td>mestrado</td>\n",
       "      <td>solteiro</td>\n",
       "      <td>menos que $40K</td>\n",
       "      <td>blue</td>\n",
       "      <td>6</td>\n",
       "      <td>2</td>\n",
       "      <td>1</td>\n",
       "      <td>8256.96</td>\n",
       "      <td>1291.45</td>\n",
       "      <td>33</td>\n",
       "    </tr>\n",
       "    <tr>\n",
       "      <th>2</th>\n",
       "      <td>51</td>\n",
       "      <td>M</td>\n",
       "      <td>3</td>\n",
       "      <td>mestrado</td>\n",
       "      <td>casado</td>\n",
       "      <td>$80K - $120K</td>\n",
       "      <td>blue</td>\n",
       "      <td>4</td>\n",
       "      <td>0</td>\n",
       "      <td>1</td>\n",
       "      <td>3418.56</td>\n",
       "      <td>1887.72</td>\n",
       "      <td>20</td>\n",
       "    </tr>\n",
       "  </tbody>\n",
       "</table>\n",
       "</div>"
      ],
      "text/plain": [
       "   idade sexo  dependentes  escolaridade estado_civil   salario_anual  \\\n",
       "0     45    M            3  ensino medio       casado     $60K - $80K   \n",
       "1     49    F            5      mestrado     solteiro  menos que $40K   \n",
       "2     51    M            3      mestrado       casado    $80K - $120K   \n",
       "\n",
       "  tipo_cartao  qtd_produtos  iteracoes_12m  meses_inativo_12m limite_credito  \\\n",
       "0        blue             5              3                  1       12691.51   \n",
       "1        blue             6              2                  1        8256.96   \n",
       "2        blue             4              0                  1        3418.56   \n",
       "\n",
       "  valor_transacoes_12m  qtd_transacoes_12m  \n",
       "0              1144.90                  42  \n",
       "1              1291.45                  33  \n",
       "2              1887.72                  20  "
      ]
     },
     "execution_count": 5,
     "metadata": {},
     "output_type": "execute_result"
    }
   ],
   "source": [
    "df.head(3)"
   ]
  },
  {
   "cell_type": "code",
   "execution_count": 6,
   "id": "144ac0e5",
   "metadata": {
    "execution": {
     "iopub.execute_input": "2024-11-28T18:40:21.531034Z",
     "iopub.status.busy": "2024-11-28T18:40:21.529946Z",
     "iopub.status.idle": "2024-11-28T18:40:21.571528Z",
     "shell.execute_reply": "2024-11-28T18:40:21.570858Z",
     "shell.execute_reply.started": "2024-11-28T05:59:38.470268Z"
    },
    "papermill": {
     "duration": 0.060373,
     "end_time": "2024-11-28T18:40:21.571674",
     "exception": false,
     "start_time": "2024-11-28T18:40:21.511301",
     "status": "completed"
    },
    "tags": []
   },
   "outputs": [],
   "source": [
    "#exportando resultado final para o formato csv sem o cabeçalho e index\n",
    "df.to_csv(\"credito_tratado.csv\", index=False, header=None)"
   ]
  },
  {
   "cell_type": "markdown",
   "id": "9f94b2e9",
   "metadata": {
    "papermill": {
     "duration": 0.013926,
     "end_time": "2024-11-28T18:40:21.599929",
     "exception": false,
     "start_time": "2024-11-28T18:40:21.586003",
     "status": "completed"
    },
    "tags": []
   },
   "source": [
    "## **3.Exploração dos Dados:**\n",
    "Agora com os dados tratados vamos entender o que tem na nossa matéria prima.\n",
    "Primeiro vamos ver o que representam as colunas : \n",
    "\n",
    "* idade = idade do cliente\n",
    "* sexo = sexo do cliente (F ou M)\n",
    "* dependentes = número de dependentes do cliente\n",
    "* escolaridade = nível de escolaridade do clientes\n",
    "* salario_anual = faixa salarial do cliente\n",
    "* tipo_cartao = tipo de cartao do cliente\n",
    "* qtd_produtos = quantidade de produtos comprados nos últimos 12 meses\n",
    "* iteracoes_12m = quantidade de iterações/transacoes nos ultimos 12 meses\n",
    "* meses_inativo_12m = quantidade de meses que o cliente ficou inativo\n",
    "* limite_credito = limite de credito do cliente\n",
    "* valor_transacoes_12m = valor das transações dos ultimos 12 meses\n",
    "* qtd_transacoes_12m  = quantidade de transacoes dos ultimos 12 meses\n",
    "\n",
    "Agora vamos a exploração de dados:\n",
    "\n",
    "**Qual a quantidade de informações temos na nossa base de dados?**\n",
    "\n",
    "Query: SELECT count(*) FROM credito\n",
    "> Reposta: 10127 linhas\n",
    "\n",
    "\n",
    "\n",
    "**Como são os dados** \n",
    "\n",
    "Query: SELECT * FROM credito LIMIT 10;\n",
    "![Dez primeiras linhas do dataset](https://github.com/mateus4411/imagens-queries-sql/blob/main/como_est%C3%A3o_os_dados.PNG?raw=true)\n",
    "\n",
    "> É possível reparar que existem algumas informações nulas na tabela (valor na), vamos olhar mais de perto para os valores de cada coluna! \n",
    "\n",
    "**Quais os tipos de cada dado**\n",
    "\n",
    "**Query:** DESCRIBE credito\n",
    "\n",
    "![Descrição dos tipos de dados](https://github.com/mateus4411/imagens-queries-sql/blob/main/tipos_dos_dados.PNG?raw=true)\n",
    "\n",
    "\n",
    "Agora que ja entendemos quais são os tipos de dados, vamos olhar mais atentamente para as varíaveis que não são numéricas.\n",
    "\n",
    "**Quais são os tipos de escolaridade disponíveis no dataset?**\n",
    "\n",
    "**Query:** SELECT DISTINCT escolaridade FROM credito\n",
    "\n",
    "![Tipos de escolaridade](https://github.com/mateus4411/imagens-queries-sql/blob/main/tipos_de_escolaridade.PNG?raw=true)\n",
    "\n",
    "> Os dados contam com vários níveis de escolaridade e é possível perceber que temos valores nulos (na) no dataset.\n",
    "\n",
    "Será que temos mais valores nulos?\n",
    "\n",
    "**Quais são os tipos de estado_civil disponíveis no dataset?**\n",
    "\n",
    "**Query:** SELECT DISTINCT estado_civil  FROM credito\n",
    "\n",
    "![Tipos de estado civil](https://github.com/mateus4411/imagens-queries-sql/blob/main/tipos_estado_civil.PNG?raw=true)\n",
    "\n",
    "> Novamente encontramos valores nulos nos dados de estado civil!\n",
    "\n",
    "**Quais são os tipos de salario_anual disponíveis no dataset?**\n",
    "\n",
    "**Query:** SELECT DISTINCT salario_anual  FROM credito\n",
    "\n",
    "![Tipos de salario anual](https://github.com/mateus4411/imagens-queries-sql/blob/main/tipos_salario_anual.PNG?raw=true)\n",
    "\n",
    "> Os salários nesse dataset não estão expostas com o valor exato que o cliente ganha. O que está informado é a faixa salarial de cada um. Também contem dados nulos. \n",
    "\n",
    "\n",
    "**Quais são os tipos de cartão disponíveis no dataset?**\n",
    "\n",
    "**Query:** SELECT DISTINCT tipo_cartao  FROM credito\n",
    "\n",
    "![Tipos de cartão](https://github.com/mateus4411/imagens-queries-sql/blob/main/tipos_de_cartao.PNG?raw=true)\n",
    "\n",
    "> Aqui vemos que não há valores nulos.\n",
    "\n"
   ]
  },
  {
   "cell_type": "markdown",
   "id": "0d220226",
   "metadata": {
    "papermill": {
     "duration": 0.013822,
     "end_time": "2024-11-28T18:40:21.627959",
     "exception": false,
     "start_time": "2024-11-28T18:40:21.614137",
     "status": "completed"
    },
    "tags": []
   },
   "source": [
    "## **4.Analise dos Dados:**\n",
    "Uma vez que exploramos o dados e buscamos entender quais são as informações que temos no nosso banco de dados, podemos analisar as informações para buscar entender o que está acontecendo no banco de dados. Vamos fazer perguntas:"
   ]
  },
  {
   "cell_type": "markdown",
   "id": "62681cd4",
   "metadata": {
    "papermill": {
     "duration": 0.013803,
     "end_time": "2024-11-28T18:40:21.656045",
     "exception": false,
     "start_time": "2024-11-28T18:40:21.642242",
     "status": "completed"
    },
    "tags": []
   },
   "source": [
    "**Nesse banco de dados, quantos clientes são homens e quantos são mulheres?**\n",
    "\n",
    "**Query:** select count(*), sexo from credito group by sexo\n",
    "\n",
    "![quantidade por sexo](https://github.com/mateus4411/imagens-queries-sql/blob/main/quantidade_por_sexo.PNG?raw=true)"
   ]
  },
  {
   "cell_type": "code",
   "execution_count": 7,
   "id": "9e9aff94",
   "metadata": {
    "execution": {
     "iopub.execute_input": "2024-11-28T18:40:21.710176Z",
     "iopub.status.busy": "2024-11-28T18:40:21.709517Z",
     "iopub.status.idle": "2024-11-28T18:40:21.812976Z",
     "shell.execute_reply": "2024-11-28T18:40:21.812339Z",
     "shell.execute_reply.started": "2024-11-28T11:31:30.961107Z"
    },
    "papermill": {
     "duration": 0.14184,
     "end_time": "2024-11-28T18:40:21.813123",
     "exception": false,
     "start_time": "2024-11-28T18:40:21.671283",
     "status": "completed"
    },
    "tags": []
   },
   "outputs": [
    {
     "data": {
      "image/png": "[encoded data removed]",
      "text/plain": [
       "<Figure size 432x432 with 1 Axes>"
      ]
     },
     "metadata": {},
     "output_type": "display_data"
    }
   ],
   "source": [
    "import pandas as pd\n",
    "import seaborn as sns\n",
    "import matplotlib.pyplot as plt\n",
    "\n",
    "# Contar a frequência de cada sexo\n",
    "contagem_sexo = df['sexo'].value_counts()\n",
    "\n",
    "# Criar o gráfico de pizza\n",
    "plt.figure(figsize=(6, 6))  # Ajusta o tamanho do gráfico (opcional)\n",
    "plt.pie(contagem_sexo, labels=contagem_sexo.index, autopct='%1.1f%%', startangle=90)\n",
    "plt.title('Distribuição por Sexo')\n",
    "plt.show()"
   ]
  },
  {
   "cell_type": "markdown",
   "id": "1f0a240a",
   "metadata": {
    "papermill": {
     "duration": 0.014652,
     "end_time": "2024-11-28T18:40:21.843604",
     "exception": false,
     "start_time": "2024-11-28T18:40:21.828952",
     "status": "completed"
    },
    "tags": []
   },
   "source": [
    ">Podemos ver que há mais clientes do sexo feminino do que masculino"
   ]
  },
  {
   "cell_type": "markdown",
   "id": "86dc7c06",
   "metadata": {
    "papermill": {
     "duration": 0.014795,
     "end_time": "2024-11-28T18:40:21.874551",
     "exception": false,
     "start_time": "2024-11-28T18:40:21.859756",
     "status": "completed"
    },
    "tags": []
   },
   "source": [
    " **Nesse banco de dados, quantos clientes temos de cada faixa salarial, e quantos deles são homens e mulheres?**\n",
    " \n",
    " **Query:**\n",
    "\n",
    "```sql \n",
    "SELECT \n",
    "    salario_anual,\n",
    "    COUNT(*) AS total,\n",
    "    SUM(CASE WHEN sexo = 'M' THEN 1 ELSE 0 END) AS qtd_homens,\n",
    "    SUM(CASE WHEN sexo = 'F' THEN 1 ELSE 0 END) AS qtd_mulheres\n",
    "FROM credito\n",
    "GROUP BY salario_anual;\n",
    "```\n",
    "\n",
    "![quantidade faixa salarial](https://github.com/mateus4411/imagens-queries-sql/blob/main/quantidade_faixa_salarial.PNG?raw=true)"
   ]
  },
  {
   "cell_type": "markdown",
   "id": "86e29c51",
   "metadata": {
    "papermill": {
     "duration": 0.01492,
     "end_time": "2024-11-28T18:40:21.904721",
     "exception": false,
     "start_time": "2024-11-28T18:40:21.889801",
     "status": "completed"
    },
    "tags": []
   },
   "source": [
    ">> Podemos ver que mulheres não recebem mais que $60k, logo os maiores salarios são de homens"
   ]
  },
  {
   "cell_type": "markdown",
   "id": "f01b0859",
   "metadata": {
    "papermill": {
     "duration": 0.014811,
     "end_time": "2024-11-28T18:40:21.934629",
     "exception": false,
     "start_time": "2024-11-28T18:40:21.919818",
     "status": "completed"
    },
    "tags": []
   },
   "source": [
    "**Queremos focar o nosso marketing de maneira adequada para nossos clientes, qual será a idade deles?**\n",
    "\n",
    "**Query:** \n",
    "\n",
    "```sql\n",
    "select avg(idade) as media_idade, min(idade) as min_idade, max(idade) as max_idade, sexo from credito group by sexo\n",
    "```\n",
    "![media de idade por sexo](https://github.com/mateus4411/imagens-queries-sql/blob/main/media_de_idade.PNG?raw=true)"
   ]
  },
  {
   "cell_type": "markdown",
   "id": "62e90c4e",
   "metadata": {
    "papermill": {
     "duration": 0.014906,
     "end_time": "2024-11-28T18:40:21.964864",
     "exception": false,
     "start_time": "2024-11-28T18:40:21.949958",
     "status": "completed"
    },
    "tags": []
   },
   "source": [
    ">>A média de idade dos clientes é de 46 anos , tantos para homens tanto para mulheres"
   ]
  },
  {
   "cell_type": "markdown",
   "id": "9a5199b0",
   "metadata": {
    "papermill": {
     "duration": 0.015026,
     "end_time": "2024-11-28T18:40:21.994983",
     "exception": false,
     "start_time": "2024-11-28T18:40:21.979957",
     "status": "completed"
    },
    "tags": []
   },
   "source": [
    "**Quais as características dos clientes que possuem os maiores creditos?**\n",
    "\n",
    "**Query:**\n",
    "\n",
    "````sql\n",
    "SELECT \n",
    "    MAX(limite_credito) AS limite_credito, \n",
    "    escolaridade, \n",
    "    tipo_cartao, \n",
    "    sexo, \n",
    "    estado_civil \n",
    "FROM \n",
    "    credito \n",
    "GROUP BY \n",
    "    escolaridade, tipo_cartao, sexo, estado_civil \n",
    "ORDER BY \n",
    "    limite_credito DESC \n",
    "LIMIT 15;\n",
    "````\n",
    "![caracteristicas dos clientes](https://github.com/mateus4411/imagens-queries-sql/blob/main/caracteristicas.PNG?raw=true)"
   ]
  },
  {
   "cell_type": "markdown",
   "id": "0449eb24",
   "metadata": {
    "papermill": {
     "duration": 0.016619,
     "end_time": "2024-11-28T18:40:22.026867",
     "exception": false,
     "start_time": "2024-11-28T18:40:22.010248",
     "status": "completed"
    },
    "tags": []
   },
   "source": [
    "Podemos ver que a maioria são homens"
   ]
  },
  {
   "cell_type": "markdown",
   "id": "7e4d80af",
   "metadata": {
    "papermill": {
     "duration": 0.014634,
     "end_time": "2024-11-28T18:40:22.056486",
     "exception": false,
     "start_time": "2024-11-28T18:40:22.041852",
     "status": "completed"
    },
    "tags": []
   },
   "source": [
    "**Quais as características dos clientes que possuem os menores creditos?**\n",
    "\n",
    "**Query**:\n",
    "\n",
    "````sql\n",
    "SELECT \n",
    "    MAX(limite_credito) AS limite_credito, \n",
    "    escolaridade, \n",
    "    tipo_cartao, \n",
    "    sexo, \n",
    "    estado_civil \n",
    "FROM \n",
    "    credito \n",
    "WHERE \n",
    "    escolaridade != 'na' \n",
    "    AND tipo_cartao != 'na' \n",
    "GROUP BY \n",
    "    escolaridade, tipo_cartao, sexo, estado_civil \n",
    "ORDER BY \n",
    "    limite_credito ASC\n",
    "LIMIT 15;\n",
    "````\n",
    "\n",
    "![caracteristicas menores creditos](https://github.com/mateus4411/imagens-queries-sql/blob/main/caracteristicas_menos.PNG?raw=true)"
   ]
  },
  {
   "cell_type": "markdown",
   "id": "1f8ce6a2",
   "metadata": {
    "papermill": {
     "duration": 0.014873,
     "end_time": "2024-11-28T18:40:22.086450",
     "exception": false,
     "start_time": "2024-11-28T18:40:22.071577",
     "status": "completed"
    },
    "tags": []
   },
   "source": [
    ">> Podemos ver que os que menos tem limite são mulheres , com nenhum homem entre os clientes que tem menos limite"
   ]
  },
  {
   "cell_type": "markdown",
   "id": "478fcb5a",
   "metadata": {
    "papermill": {
     "duration": 0.01457,
     "end_time": "2024-11-28T18:40:22.116244",
     "exception": false,
     "start_time": "2024-11-28T18:40:22.101674",
     "status": "completed"
    },
    "tags": []
   },
   "source": [
    "**Será que as mulheres gastam mais?**\n",
    "\n",
    "**Query:**\n",
    "\n",
    "````sql\n",
    "select max(valor_transacoes_12m) as maior_valor_gasto, avg(valor_transacoes_12m) as media_valor_gasto, min(valor_transacoes_12m) as min_valor_gasto, sexo\n",
    "from credito\n",
    "group by sexo\n",
    "````\n",
    "![gasto de homens e mulheres](https://github.com/mateus4411/imagens-queries-sql/blob/main/gasto_de_homens_e_mulheres.PNG?raw=true)"
   ]
  },
  {
   "cell_type": "markdown",
   "id": "38f596d1",
   "metadata": {
    "papermill": {
     "duration": 0.014764,
     "end_time": "2024-11-28T18:40:22.146196",
     "exception": false,
     "start_time": "2024-11-28T18:40:22.131432",
     "status": "completed"
    },
    "tags": []
   },
   "source": [
    ">> Não , os homens gastam mais em média"
   ]
  },
  {
   "cell_type": "markdown",
   "id": "8a8410ac",
   "metadata": {
    "papermill": {
     "duration": 0.016357,
     "end_time": "2024-11-28T18:40:22.177875",
     "exception": false,
     "start_time": "2024-11-28T18:40:22.161518",
     "status": "completed"
    },
    "tags": []
   },
   "source": [
    "**Quem gasta mais ? solteiros, casados ou divorciados ?**\n",
    "**Query:**\n",
    "\n",
    "````sql\n",
    "\n",
    "SELECT \n",
    "    MAX(valor_transacoes_12m) AS maior_valor_gasto, \n",
    "    AVG(valor_transacoes_12m) AS media_valor_gasto, \n",
    "    MIN(valor_transacoes_12m) AS min_valor_gasto, \n",
    "    estado_civil, \n",
    "FROM \n",
    "    credito \n",
    "GROUP BY \n",
    "    estado_civil;\n",
    "````\n",
    "![quem gasta mais?](https://github.com/mateus4411/imagens-queries-sql/blob/main/quem_gasta_mais_estado_civil.PNG?raw=true)"
   ]
  },
  {
   "cell_type": "markdown",
   "id": "6a5cf86c",
   "metadata": {
    "papermill": {
     "duration": 0.014813,
     "end_time": "2024-11-28T18:40:22.207773",
     "exception": false,
     "start_time": "2024-11-28T18:40:22.192960",
     "status": "completed"
    },
    "tags": []
   },
   "source": [
    ">>Solteiros gastam mais , enquanto casados gasta bem menos em média , ja os divorciados gastam quase tanto quanto solteiros"
   ]
  },
  {
   "cell_type": "markdown",
   "id": "5631935f",
   "metadata": {
    "papermill": {
     "duration": 0.014626,
     "end_time": "2024-11-28T18:40:22.237311",
     "exception": false,
     "start_time": "2024-11-28T18:40:22.222685",
     "status": "completed"
    },
    "tags": []
   },
   "source": [
    "**Qual nivel de escolaridade dos que mais gastam ?**\n",
    "\n",
    "**Query:**\n",
    "`````sql\n",
    "SELECT \n",
    "    MAX(valor_transacoes_12m) AS maior_valor_gasto, \n",
    "    AVG(valor_transacoes_12m) AS media_valor_gasto, \n",
    "    MIN(valor_transacoes_12m) AS min_valor_gasto, \n",
    "    escolaridade \n",
    "FROM \n",
    "    credito \n",
    "WHERE \n",
    "    escolaridade != 'na'  -- Para garantir que estamos considerando apenas valores válidos\n",
    "GROUP BY \n",
    "    escolaridade;\n",
    "\n",
    "`````\n",
    "![escolaridade de quem gasta mais](https://github.com/mateus4411/imagens-queries-sql/blob/main/nivel_escolaridade_quem_gasta_+.PNG?raw=true)"
   ]
  },
  {
   "cell_type": "markdown",
   "id": "171ba404",
   "metadata": {
    "papermill": {
     "duration": 0.015281,
     "end_time": "2024-11-28T18:40:22.268098",
     "exception": false,
     "start_time": "2024-11-28T18:40:22.252817",
     "status": "completed"
    },
    "tags": []
   },
   "source": [
    ">> Aqueles sem educação formal são os que mais gastam"
   ]
  },
  {
   "cell_type": "markdown",
   "id": "0b8aea6a",
   "metadata": {
    "papermill": {
     "duration": 0.015435,
     "end_time": "2024-11-28T18:40:22.300176",
     "exception": false,
     "start_time": "2024-11-28T18:40:22.284741",
     "status": "completed"
    },
    "tags": []
   },
   "source": [
    "**Vamos analisar agora a idade por tipo de cartão:**\n",
    "\n",
    "**Query:**\n",
    "```sql\n",
    "SELECT \n",
    "    tipo_cartao,\n",
    "    AVG(idade) AS media_idade, \n",
    "    MIN(idade) AS min_idade, \n",
    "    MAX(idade) AS max_idade\n",
    "FROM \n",
    "    credito\n",
    "GROUP BY\n",
    "    tipo_cartao;\n",
    "```\n",
    "![](https://github.com/mateus4411/imagens-queries-sql/blob/main/idade_por_cartao.PNG?raw=true)"
   ]
  },
  {
   "cell_type": "code",
   "execution_count": 8,
   "id": "939eebf2",
   "metadata": {
    "execution": {
     "iopub.execute_input": "2024-11-28T18:40:22.348116Z",
     "iopub.status.busy": "2024-11-28T18:40:22.338703Z",
     "iopub.status.idle": "2024-11-28T18:40:22.457905Z",
     "shell.execute_reply": "2024-11-28T18:40:22.457296Z",
     "shell.execute_reply.started": "2024-11-28T11:46:27.125578Z"
    },
    "jupyter": {
     "source_hidden": true
    },
    "papermill": {
     "duration": 0.14258,
     "end_time": "2024-11-28T18:40:22.458052",
     "exception": false,
     "start_time": "2024-11-28T18:40:22.315472",
     "status": "completed"
    },
    "tags": []
   },
   "outputs": [
    {
     "data": {
      "image/png": "[encoded data removed]",
      "text/plain": [
       "<Figure size 720x432 with 1 Axes>"
      ]
     },
     "metadata": {
      "needs_background": "light"
     },
     "output_type": "display_data"
    }
   ],
   "source": [
    "import matplotlib.pyplot as plt\n",
    "import numpy as np\n",
    "\n",
    "# Dados do dicionário\n",
    "dict_faixa_etaria = {\n",
    "    'tipo_cartao': ['Platinum', 'Gold', 'Silver', 'Blue'],\n",
    "    'limite_minimo': [39, 29, 26, 26],\n",
    "    'limite_maximo': [56, 63, 65, 73]\n",
    "}\n",
    "\n",
    "# Criar os valores para as barras\n",
    "tipos_cartao = dict_faixa_etaria['tipo_cartao']\n",
    "limites_minimo = dict_faixa_etaria['limite_minimo']\n",
    "limites_maximo = dict_faixa_etaria['limite_maximo']\n",
    "\n",
    "# Configurações do gráfico\n",
    "fig, ax = plt.subplots(figsize=(10, 6))\n",
    "\n",
    "# Plotando as barras de intervalo\n",
    "for i in range(len(tipos_cartao)):\n",
    "    ax.barh(tipos_cartao[i], limites_maximo[i] - limites_minimo[i], left=limites_minimo[i], color='blue')\n",
    "\n",
    "# Títulos e labels\n",
    "ax.set_title('Faixa Etária pelo Tipo de Cartão')\n",
    "ax.set_xlabel('Idade')\n",
    "ax.set_ylabel('Tipo de Cartão')\n",
    "\n",
    "# Exibir gráfico\n",
    "plt.show()\n"
   ]
  },
  {
   "cell_type": "markdown",
   "id": "ffb265c8",
   "metadata": {
    "papermill": {
     "duration": 0.016502,
     "end_time": "2024-11-28T18:40:22.490815",
     "exception": false,
     "start_time": "2024-11-28T18:40:22.474313",
     "status": "completed"
    },
    "tags": []
   },
   "source": [
    ">>Vemos que os melhores cartões estão com aqueles com mais idade , talvez por terem mais tempo trabalhado"
   ]
  }
 ],
 "metadata": {
  "kaggle": {
   "accelerator": "none",
   "dataSources": [
    {
     "datasetId": 6181532,
     "sourceId": 10035897,
     "sourceType": "datasetVersion"
    }
   ],
   "dockerImageVersionId": 30120,
   "isGpuEnabled": false,
   "isInternetEnabled": false,
   "language": "python",
   "sourceType": "notebook"
  },
  "kernelspec": {
   "display_name": "Python 3",
   "language": "python",
   "name": "python3"
  },
  "language_info": {
   "codemirror_mode": {
    "name": "ipython",
    "version": 3
   },
   "file_extension": ".py",
   "mimetype": "text/x-python",
   "name": "python",
   "nbconvert_exporter": "python",
   "pygments_lexer": "ipython3",
   "version": "3.7.10"
  },
  "papermill": {
   "default_parameters": {},
   "duration": 10.792101,
   "end_time": "2024-11-28T18:40:23.216783",
   "environment_variables": {},
   "exception": null,
   "input_path": "__notebook__.ipynb",
   "output_path": "__notebook__.ipynb",
   "parameters": {},
   "start_time": "2024-11-28T18:40:12.424682",
   "version": "2.3.3"
  }
 },
 "nbformat": 4,
 "nbformat_minor": 5
}
